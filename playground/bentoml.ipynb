{
 "cells": [
  {
   "cell_type": "code",
   "execution_count": 1,
   "metadata": {},
   "outputs": [],
   "source": [
    "import pandas as pd\n",
    "import numpy as np\n",
    "\n",
    "import boto3\n",
    "import pyarrow.parquet as pq\n",
    "\n",
    "import matplotlib.pyplot as plt\n",
    "import io\n",
    "import os\n",
    "\n",
    "import datetime\n",
    "from getpass import getpass\n",
    "\n",
    "import warnings\n",
    "warnings.filterwarnings('ignore')"
   ]
  },
  {
   "cell_type": "code",
   "execution_count": 2,
   "metadata": {},
   "outputs": [],
   "source": [
    "AWS_S3_BUCKET = \"pipeliner-hb\"\n",
    "AWS_ACCESS_KEY_ID = getpass(\"AWS_ACCESS_KEY_ID: \")\n",
    "AWS_SECRET_ACCESS_KEY = getpass(\"AWS_SECRET_ACCESS_KEY: \")"
   ]
  },
  {
   "cell_type": "code",
   "execution_count": 3,
   "metadata": {},
   "outputs": [],
   "source": [
    "def pd_read_s3_parquet(key, bucket, s3_client=None, **args):\n",
    "    if s3_client is None:\n",
    "        s3_client = boto3.client('s3')\n",
    "    obj = s3_client.get_object(Bucket=bucket, Key=key)\n",
    "    return pd.read_parquet(io.BytesIO(obj['Body'].read()), **args)\n",
    "\n",
    "def pd_read_s3_multiple_parquets(filepath, bucket, s3=None, \n",
    "                                 s3_client=None, verbose=False, **args):\n",
    "    if not filepath.endswith('/'):\n",
    "        filepath = filepath + '/'  # Add '/' to the end\n",
    "    if s3_client is None:\n",
    "        s3_client = boto3.client('s3')\n",
    "    if s3 is None:\n",
    "        s3 = boto3.resource('s3')\n",
    "    s3_keys = [item.key for item in s3.Bucket(bucket).objects.filter(Prefix=filepath)\n",
    "               if item.key.endswith('.parquet')]\n",
    "    if not s3_keys:\n",
    "        print('No parquet found in', bucket, filepath)\n",
    "    elif verbose:\n",
    "        print('Load parquets:')\n",
    "        for p in s3_keys: \n",
    "            print(p)\n",
    "    dfs = [pd_read_s3_parquet(key, bucket=bucket, s3_client=s3_client, **args) \n",
    "           for key in s3_keys]\n",
    "    return pd.concat(dfs, ignore_index=True)"
   ]
  },
  {
   "cell_type": "code",
   "execution_count": 4,
   "metadata": {},
   "outputs": [
    {
     "name": "stdout",
     "output_type": "stream",
     "text": [
      "Reading data/parquet/2022-07-11 ...\n",
      "Reading data/parquet/2022-07-12 ...\n",
      "Reading data/parquet/2022-07-13 ...\n",
      "Reading data/parquet/2022-07-14 ...\n",
      "Reading data/parquet/2022-07-15 ...\n",
      "Reading data/parquet/2022-07-16 ...\n",
      "Reading data/parquet/2022-07-17 ...\n",
      "Reading data/parquet/2022-07-18 ...\n",
      "Reading data/parquet/2022-07-19 ...\n",
      "Reading data/parquet/2022-07-20 ...\n",
      "Reading data/parquet/2022-07-21 ...\n",
      "Reading data/parquet/2022-07-22 ...\n",
      "Reading data/parquet/2022-07-23 ...\n",
      "Reading data/parquet/2022-07-24 ...\n",
      "Reading data/parquet/2022-07-25 ...\n",
      "Reading data/parquet/2022-07-26 ...\n",
      "Reading data/parquet/2022-07-27 ...\n",
      "Reading data/parquet/2022-07-28 ...\n",
      "Reading data/parquet/2022-07-29 ...\n",
      "Reading data/parquet/2022-07-30 ...\n"
     ]
    },
    {
     "data": {
      "text/html": [
       "<div>\n",
       "<style scoped>\n",
       "    .dataframe tbody tr th:only-of-type {\n",
       "        vertical-align: middle;\n",
       "    }\n",
       "\n",
       "    .dataframe tbody tr th {\n",
       "        vertical-align: top;\n",
       "    }\n",
       "\n",
       "    .dataframe thead th {\n",
       "        text-align: right;\n",
       "    }\n",
       "</style>\n",
       "<table border=\"1\" class=\"dataframe\">\n",
       "  <thead>\n",
       "    <tr style=\"text-align: right;\">\n",
       "      <th></th>\n",
       "      <th>datetime</th>\n",
       "      <th>open</th>\n",
       "      <th>high</th>\n",
       "      <th>low</th>\n",
       "      <th>close</th>\n",
       "      <th>volume</th>\n",
       "    </tr>\n",
       "  </thead>\n",
       "  <tbody>\n",
       "    <tr>\n",
       "      <th>0</th>\n",
       "      <td>2022-07-11 00:00:00</td>\n",
       "      <td>20861.11</td>\n",
       "      <td>20868.48</td>\n",
       "      <td>20814.79</td>\n",
       "      <td>20818.54</td>\n",
       "      <td>245.10550</td>\n",
       "    </tr>\n",
       "    <tr>\n",
       "      <th>1</th>\n",
       "      <td>2022-07-11 00:01:00</td>\n",
       "      <td>20818.54</td>\n",
       "      <td>20839.66</td>\n",
       "      <td>20791.37</td>\n",
       "      <td>20803.08</td>\n",
       "      <td>185.83680</td>\n",
       "    </tr>\n",
       "    <tr>\n",
       "      <th>2</th>\n",
       "      <td>2022-07-11 00:02:00</td>\n",
       "      <td>20805.58</td>\n",
       "      <td>20811.49</td>\n",
       "      <td>20783.68</td>\n",
       "      <td>20804.23</td>\n",
       "      <td>123.93237</td>\n",
       "    </tr>\n",
       "    <tr>\n",
       "      <th>3</th>\n",
       "      <td>2022-07-11 00:03:00</td>\n",
       "      <td>20803.73</td>\n",
       "      <td>20804.23</td>\n",
       "      <td>20753.77</td>\n",
       "      <td>20793.99</td>\n",
       "      <td>201.01523</td>\n",
       "    </tr>\n",
       "    <tr>\n",
       "      <th>4</th>\n",
       "      <td>2022-07-11 00:04:00</td>\n",
       "      <td>20793.99</td>\n",
       "      <td>20837.26</td>\n",
       "      <td>20787.12</td>\n",
       "      <td>20793.91</td>\n",
       "      <td>138.35461</td>\n",
       "    </tr>\n",
       "    <tr>\n",
       "      <th>...</th>\n",
       "      <td>...</td>\n",
       "      <td>...</td>\n",
       "      <td>...</td>\n",
       "      <td>...</td>\n",
       "      <td>...</td>\n",
       "      <td>...</td>\n",
       "    </tr>\n",
       "    <tr>\n",
       "      <th>1435</th>\n",
       "      <td>2022-07-30 23:55:00</td>\n",
       "      <td>23656.18</td>\n",
       "      <td>23658.41</td>\n",
       "      <td>23612.04</td>\n",
       "      <td>23629.34</td>\n",
       "      <td>51.15939</td>\n",
       "    </tr>\n",
       "    <tr>\n",
       "      <th>1436</th>\n",
       "      <td>2022-07-30 23:56:00</td>\n",
       "      <td>23629.34</td>\n",
       "      <td>23642.14</td>\n",
       "      <td>23627.47</td>\n",
       "      <td>23637.47</td>\n",
       "      <td>48.76640</td>\n",
       "    </tr>\n",
       "    <tr>\n",
       "      <th>1437</th>\n",
       "      <td>2022-07-30 23:57:00</td>\n",
       "      <td>23637.47</td>\n",
       "      <td>23650.00</td>\n",
       "      <td>23630.22</td>\n",
       "      <td>23641.99</td>\n",
       "      <td>59.77065</td>\n",
       "    </tr>\n",
       "    <tr>\n",
       "      <th>1438</th>\n",
       "      <td>2022-07-30 23:58:00</td>\n",
       "      <td>23642.00</td>\n",
       "      <td>23644.47</td>\n",
       "      <td>23630.39</td>\n",
       "      <td>23634.46</td>\n",
       "      <td>27.83112</td>\n",
       "    </tr>\n",
       "    <tr>\n",
       "      <th>1439</th>\n",
       "      <td>2022-07-30 23:59:00</td>\n",
       "      <td>23634.46</td>\n",
       "      <td>23646.37</td>\n",
       "      <td>23625.01</td>\n",
       "      <td>23643.51</td>\n",
       "      <td>52.53868</td>\n",
       "    </tr>\n",
       "  </tbody>\n",
       "</table>\n",
       "<p>28800 rows × 6 columns</p>\n",
       "</div>"
      ],
      "text/plain": [
       "                datetime      open      high       low     close     volume\n",
       "0    2022-07-11 00:00:00  20861.11  20868.48  20814.79  20818.54  245.10550\n",
       "1    2022-07-11 00:01:00  20818.54  20839.66  20791.37  20803.08  185.83680\n",
       "2    2022-07-11 00:02:00  20805.58  20811.49  20783.68  20804.23  123.93237\n",
       "3    2022-07-11 00:03:00  20803.73  20804.23  20753.77  20793.99  201.01523\n",
       "4    2022-07-11 00:04:00  20793.99  20837.26  20787.12  20793.91  138.35461\n",
       "...                  ...       ...       ...       ...       ...        ...\n",
       "1435 2022-07-30 23:55:00  23656.18  23658.41  23612.04  23629.34   51.15939\n",
       "1436 2022-07-30 23:56:00  23629.34  23642.14  23627.47  23637.47   48.76640\n",
       "1437 2022-07-30 23:57:00  23637.47  23650.00  23630.22  23641.99   59.77065\n",
       "1438 2022-07-30 23:58:00  23642.00  23644.47  23630.39  23634.46   27.83112\n",
       "1439 2022-07-30 23:59:00  23634.46  23646.37  23625.01  23643.51   52.53868\n",
       "\n",
       "[28800 rows x 6 columns]"
      ]
     },
     "execution_count": 4,
     "metadata": {},
     "output_type": "execute_result"
    }
   ],
   "source": [
    "df = pd.DataFrame()\n",
    "for day in range(11, 31):\n",
    "    path = f'data/parquet/2022-07-{day:02}'\n",
    "    print(f\"Reading {path} ...\")\n",
    "    temp_df = pd_read_s3_multiple_parquets(path, AWS_S3_BUCKET)\n",
    "    df = df.append(temp_df)\n",
    "\n",
    "df"
   ]
  },
  {
   "cell_type": "markdown",
   "metadata": {},
   "source": [
    "# 종가 예측하는 XGBoost 모델"
   ]
  },
  {
   "cell_type": "markdown",
   "metadata": {},
   "source": [
    "## Preprocessing"
   ]
  },
  {
   "cell_type": "code",
   "execution_count": 5,
   "metadata": {},
   "outputs": [],
   "source": [
    "# from sklearn.preprocessing import MinMaxScaler\n",
    "from sklearn.model_selection import train_test_split"
   ]
  },
  {
   "cell_type": "code",
   "execution_count": 6,
   "metadata": {},
   "outputs": [],
   "source": [
    "x_train, x_test, y_train, y_test = train_test_split(df.drop(['datetime', 'close'], axis=1), df['close'], test_size=0.2, random_state=0, shuffle=False)"
   ]
  },
  {
   "cell_type": "markdown",
   "metadata": {},
   "source": [
    "## Modeling"
   ]
  },
  {
   "cell_type": "markdown",
   "metadata": {},
   "source": [
    "### Train"
   ]
  },
  {
   "cell_type": "code",
   "execution_count": 7,
   "metadata": {},
   "outputs": [],
   "source": [
    "import xgboost as xgb\n",
    "from xgboost import plot_importance, plot_tree\n",
    "from sklearn.metrics import mean_squared_error, mean_absolute_error"
   ]
  },
  {
   "cell_type": "code",
   "execution_count": 8,
   "metadata": {},
   "outputs": [
    {
     "data": {
      "text/plain": [
       "<xgboost.core.Booster at 0x7f55bf8cce80>"
      ]
     },
     "execution_count": 8,
     "metadata": {},
     "output_type": "execute_result"
    }
   ],
   "source": [
    "dtrain = xgb.DMatrix(x_train, label=y_train)\n",
    "params = {\"learning_rate\": 0.3, \"max_depth\": 6, \"min_child_weight\": 1}\n",
    "\n",
    "model = xgb.train(params, dtrain, num_boost_round=500)\n",
    "model"
   ]
  },
  {
   "cell_type": "markdown",
   "metadata": {},
   "source": [
    "### Predict"
   ]
  },
  {
   "cell_type": "code",
   "execution_count": 9,
   "metadata": {},
   "outputs": [],
   "source": [
    "pred = model.predict(xgb.DMatrix(x_test))"
   ]
  },
  {
   "cell_type": "code",
   "execution_count": 10,
   "metadata": {},
   "outputs": [
    {
     "data": {
      "image/png": "[encoded data removed]",
      "text/plain": [
       "<Figure size 864x648 with 1 Axes>"
      ]
     },
     "metadata": {
      "needs_background": "light"
     },
     "output_type": "display_data"
    }
   ],
   "source": [
    "plt.figure(figsize=(12, 9))\n",
    "plt.plot(np.asarray(y_test), label='actual')\n",
    "plt.plot(pred, label='prediction')\n",
    "plt.legend()\n",
    "\n",
    "plt.show()"
   ]
  },
  {
   "cell_type": "markdown",
   "metadata": {},
   "source": [
    "## BentoML"
   ]
  },
  {
   "cell_type": "code",
   "execution_count": 11,
   "metadata": {},
   "outputs": [],
   "source": [
    "import bentoml\n",
    "bento_model = bentoml.xgboost.save_model(\"xgb_bento\", model)"
   ]
  },
  {
   "cell_type": "code",
   "execution_count": 12,
   "metadata": {},
   "outputs": [
    {
     "data": {
      "text/plain": [
       "array([21199.11], dtype=float32)"
      ]
     },
     "execution_count": 12,
     "metadata": {},
     "output_type": "execute_result"
    }
   ],
   "source": [
    "xgb_bento = bentoml.xgboost.load_model(\"xgb_bento:latest\")\n",
    "xgb_bento.predict(xgb.DMatrix([[21195.60, 21205.46, 21187.19, 78.80792]]))"
   ]
  },
  {
   "cell_type": "markdown",
   "metadata": {},
   "source": [
    "### Serving"
   ]
  },
  {
   "cell_type": "code",
   "execution_count": 14,
   "metadata": {},
   "outputs": [],
   "source": [
    "from bentoml.io import NumpyNdarray"
   ]
  },
  {
   "cell_type": "code",
   "execution_count": 16,
   "metadata": {},
   "outputs": [],
   "source": [
    "runner =  bentoml.xgboost.get(\"xgb_bento:latest\").to_runner()"
   ]
  },
  {
   "cell_type": "code",
   "execution_count": 17,
   "metadata": {},
   "outputs": [],
   "source": [
    "svc = bentoml.Service(\"xgb_bento\", runners=[runner])\n",
    "\n",
    "@svc.api(input=NumpyNdarray(), output=NumpyNdarray())\n",
    "def predict(input_series: np.ndarray) -> np.ndarray:\n",
    "    result = runner.predict.run(input_series)\n",
    "    return result"
   ]
  },
  {
   "cell_type": "code",
   "execution_count": 1,
   "metadata": {},
   "outputs": [],
   "source": [
    "import requests"
   ]
  },
  {
   "cell_type": "code",
   "execution_count": 3,
   "metadata": {},
   "outputs": [
    {
     "data": {
      "text/plain": [
       "'[21199.109375]'"
      ]
     },
     "execution_count": 3,
     "metadata": {},
     "output_type": "execute_result"
    }
   ],
   "source": [
    "requests.post(\n",
    "    \"http://127.0.0.1:3000/predict\",\n",
    "    headers={\"content-type\": \"application/json\"},\n",
    "    data=\"[[21195.60, 21205.46, 21187.19, 78.80792]]\").text"
   ]
  },
  {
   "cell_type": "code",
   "execution_count": 5,
   "metadata": {},
   "outputs": [
    {
     "data": {
      "text/plain": [
       "'[21199.109375]'"
      ]
     },
     "execution_count": 5,
     "metadata": {},
     "output_type": "execute_result"
    }
   ],
   "source": [
    "requests.post(\n",
    "    \"http://0.0.0.0:3000/predict\",\n",
    "    headers={\"content-type\": \"application/json\"},\n",
    "    data=\"[[21195.60, 21205.46, 21187.19, 78.80792]]\").text"
   ]
  },
  {
   "cell_type": "code",
   "execution_count": null,
   "metadata": {},
   "outputs": [],
   "source": []
  }
 ],
 "metadata": {
  "kernelspec": {
   "display_name": "Python 3.8.12 ('de-study')",
   "language": "python",
   "name": "python3"
  },
  "language_info": {
   "codemirror_mode": {
    "name": "ipython",
    "version": 3
   },
   "file_extension": ".py",
   "mimetype": "text/x-python",
   "name": "python",
   "nbconvert_exporter": "python",
   "pygments_lexer": "ipython3",
   "version": "3.8.12"
  },
  "orig_nbformat": 4,
  "vscode": {
   "interpreter": {
    "hash": "604853faba6455fce3c050f4d0c42bfd2de5d7a864f7bbeca0b442ef264df23a"
   }
  }
 },
 "nbformat": 4,
 "nbformat_minor": 2
}
