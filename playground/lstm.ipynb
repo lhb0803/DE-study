{
 "cells": [
  {
   "cell_type": "code",
   "execution_count": 1,
   "metadata": {},
   "outputs": [],
   "source": [
    "import pandas as pd\n",
    "import numpy as np\n",
    "\n",
    "import boto3\n",
    "import pyarrow.parquet as pq\n",
    "\n",
    "import matplotlib.pyplot as plt\n",
    "import io\n",
    "import os\n",
    "\n",
    "import datetime\n",
    "from getpass import getpass\n",
    "\n",
    "import warnings\n",
    "warnings.filterwarnings('ignore')"
   ]
  },
  {
   "cell_type": "code",
   "execution_count": 2,
   "metadata": {},
   "outputs": [],
   "source": [
    "AWS_S3_BUCKET = \"pipeliner-hb\"\n",
    "AWS_ACCESS_KEY_ID = getpass(\"AWS_ACCESS_KEY_ID: \")\n",
    "AWS_SECRET_ACCESS_KEY = getpass(\"AWS_SECRET_ACCESS_KEY: \")"
   ]
  },
  {
   "cell_type": "code",
   "execution_count": 3,
   "metadata": {},
   "outputs": [],
   "source": [
    "def pd_read_s3_parquet(key, bucket, s3_client=None, **args):\n",
    "    if s3_client is None:\n",
    "        s3_client = boto3.client('s3')\n",
    "    obj = s3_client.get_object(Bucket=bucket, Key=key)\n",
    "    return pd.read_parquet(io.BytesIO(obj['Body'].read()), **args)\n",
    "\n",
    "def pd_read_s3_multiple_parquets(filepath, bucket, s3=None, \n",
    "                                 s3_client=None, verbose=False, **args):\n",
    "    if not filepath.endswith('/'):\n",
    "        filepath = filepath + '/'  # Add '/' to the end\n",
    "    if s3_client is None:\n",
    "        s3_client = boto3.client('s3')\n",
    "    if s3 is None:\n",
    "        s3 = boto3.resource('s3')\n",
    "    s3_keys = [item.key for item in s3.Bucket(bucket).objects.filter(Prefix=filepath)\n",
    "               if item.key.endswith('.parquet')]\n",
    "    if not s3_keys:\n",
    "        print('No parquet found in', bucket, filepath)\n",
    "    elif verbose:\n",
    "        print('Load parquets:')\n",
    "        for p in s3_keys: \n",
    "            print(p)\n",
    "    dfs = [pd_read_s3_parquet(key, bucket=bucket, s3_client=s3_client, **args) \n",
    "           for key in s3_keys]\n",
    "    return pd.concat(dfs, ignore_index=True)"
   ]
  },
  {
   "cell_type": "code",
   "execution_count": 4,
   "metadata": {},
   "outputs": [
    {
     "name": "stdout",
     "output_type": "stream",
     "text": [
      "Reading data/parquet/2022-07-01 ...\n",
      "Reading data/parquet/2022-07-02 ...\n",
      "Reading data/parquet/2022-07-03 ...\n",
      "Reading data/parquet/2022-07-04 ...\n",
      "Reading data/parquet/2022-07-05 ...\n",
      "Reading data/parquet/2022-07-06 ...\n",
      "Reading data/parquet/2022-07-07 ...\n",
      "Reading data/parquet/2022-07-08 ...\n",
      "Reading data/parquet/2022-07-09 ...\n",
      "Reading data/parquet/2022-07-10 ...\n",
      "Reading data/parquet/2022-07-11 ...\n",
      "Reading data/parquet/2022-07-12 ...\n",
      "Reading data/parquet/2022-07-13 ...\n",
      "Reading data/parquet/2022-07-14 ...\n",
      "Reading data/parquet/2022-07-15 ...\n",
      "Reading data/parquet/2022-07-16 ...\n",
      "Reading data/parquet/2022-07-17 ...\n",
      "Reading data/parquet/2022-07-18 ...\n",
      "Reading data/parquet/2022-07-19 ...\n",
      "Reading data/parquet/2022-07-20 ...\n"
     ]
    },
    {
     "data": {
      "text/html": [
       "<div>\n",
       "<style scoped>\n",
       "    .dataframe tbody tr th:only-of-type {\n",
       "        vertical-align: middle;\n",
       "    }\n",
       "\n",
       "    .dataframe tbody tr th {\n",
       "        vertical-align: top;\n",
       "    }\n",
       "\n",
       "    .dataframe thead th {\n",
       "        text-align: right;\n",
       "    }\n",
       "</style>\n",
       "<table border=\"1\" class=\"dataframe\">\n",
       "  <thead>\n",
       "    <tr style=\"text-align: right;\">\n",
       "      <th></th>\n",
       "      <th>datetime</th>\n",
       "      <th>open</th>\n",
       "      <th>high</th>\n",
       "      <th>low</th>\n",
       "      <th>close</th>\n",
       "      <th>volume</th>\n",
       "    </tr>\n",
       "  </thead>\n",
       "  <tbody>\n",
       "    <tr>\n",
       "      <th>0</th>\n",
       "      <td>2022-07-01 00:00:00</td>\n",
       "      <td>19942.21</td>\n",
       "      <td>19978.47</td>\n",
       "      <td>19804.78</td>\n",
       "      <td>19819.00</td>\n",
       "      <td>467.33201</td>\n",
       "    </tr>\n",
       "    <tr>\n",
       "      <th>1</th>\n",
       "      <td>2022-07-01 00:01:00</td>\n",
       "      <td>19818.99</td>\n",
       "      <td>19843.73</td>\n",
       "      <td>19766.22</td>\n",
       "      <td>19838.09</td>\n",
       "      <td>337.35428</td>\n",
       "    </tr>\n",
       "    <tr>\n",
       "      <th>2</th>\n",
       "      <td>2022-07-01 00:02:00</td>\n",
       "      <td>19838.08</td>\n",
       "      <td>19859.27</td>\n",
       "      <td>19755.34</td>\n",
       "      <td>19759.96</td>\n",
       "      <td>207.34382</td>\n",
       "    </tr>\n",
       "    <tr>\n",
       "      <th>3</th>\n",
       "      <td>2022-07-01 00:03:00</td>\n",
       "      <td>19759.96</td>\n",
       "      <td>19800.13</td>\n",
       "      <td>19747.64</td>\n",
       "      <td>19749.21</td>\n",
       "      <td>244.70052</td>\n",
       "    </tr>\n",
       "    <tr>\n",
       "      <th>4</th>\n",
       "      <td>2022-07-01 00:04:00</td>\n",
       "      <td>19749.20</td>\n",
       "      <td>19749.95</td>\n",
       "      <td>19671.54</td>\n",
       "      <td>19720.27</td>\n",
       "      <td>244.00150</td>\n",
       "    </tr>\n",
       "    <tr>\n",
       "      <th>...</th>\n",
       "      <td>...</td>\n",
       "      <td>...</td>\n",
       "      <td>...</td>\n",
       "      <td>...</td>\n",
       "      <td>...</td>\n",
       "      <td>...</td>\n",
       "    </tr>\n",
       "    <tr>\n",
       "      <th>1435</th>\n",
       "      <td>2022-07-20 23:55:00</td>\n",
       "      <td>23260.50</td>\n",
       "      <td>23260.62</td>\n",
       "      <td>23201.19</td>\n",
       "      <td>23221.87</td>\n",
       "      <td>133.72606</td>\n",
       "    </tr>\n",
       "    <tr>\n",
       "      <th>1436</th>\n",
       "      <td>2022-07-20 23:56:00</td>\n",
       "      <td>23223.06</td>\n",
       "      <td>23234.93</td>\n",
       "      <td>23183.10</td>\n",
       "      <td>23212.22</td>\n",
       "      <td>169.02871</td>\n",
       "    </tr>\n",
       "    <tr>\n",
       "      <th>1437</th>\n",
       "      <td>2022-07-20 23:57:00</td>\n",
       "      <td>23209.65</td>\n",
       "      <td>23217.04</td>\n",
       "      <td>23180.00</td>\n",
       "      <td>23182.15</td>\n",
       "      <td>101.88660</td>\n",
       "    </tr>\n",
       "    <tr>\n",
       "      <th>1438</th>\n",
       "      <td>2022-07-20 23:58:00</td>\n",
       "      <td>23184.72</td>\n",
       "      <td>23241.10</td>\n",
       "      <td>23174.67</td>\n",
       "      <td>23223.52</td>\n",
       "      <td>121.00841</td>\n",
       "    </tr>\n",
       "    <tr>\n",
       "      <th>1439</th>\n",
       "      <td>2022-07-20 23:59:00</td>\n",
       "      <td>23220.19</td>\n",
       "      <td>23236.60</td>\n",
       "      <td>23206.29</td>\n",
       "      <td>23223.30</td>\n",
       "      <td>94.67869</td>\n",
       "    </tr>\n",
       "  </tbody>\n",
       "</table>\n",
       "<p>28800 rows × 6 columns</p>\n",
       "</div>"
      ],
      "text/plain": [
       "                datetime      open      high       low     close     volume\n",
       "0    2022-07-01 00:00:00  19942.21  19978.47  19804.78  19819.00  467.33201\n",
       "1    2022-07-01 00:01:00  19818.99  19843.73  19766.22  19838.09  337.35428\n",
       "2    2022-07-01 00:02:00  19838.08  19859.27  19755.34  19759.96  207.34382\n",
       "3    2022-07-01 00:03:00  19759.96  19800.13  19747.64  19749.21  244.70052\n",
       "4    2022-07-01 00:04:00  19749.20  19749.95  19671.54  19720.27  244.00150\n",
       "...                  ...       ...       ...       ...       ...        ...\n",
       "1435 2022-07-20 23:55:00  23260.50  23260.62  23201.19  23221.87  133.72606\n",
       "1436 2022-07-20 23:56:00  23223.06  23234.93  23183.10  23212.22  169.02871\n",
       "1437 2022-07-20 23:57:00  23209.65  23217.04  23180.00  23182.15  101.88660\n",
       "1438 2022-07-20 23:58:00  23184.72  23241.10  23174.67  23223.52  121.00841\n",
       "1439 2022-07-20 23:59:00  23220.19  23236.60  23206.29  23223.30   94.67869\n",
       "\n",
       "[28800 rows x 6 columns]"
      ]
     },
     "execution_count": 4,
     "metadata": {},
     "output_type": "execute_result"
    }
   ],
   "source": [
    "df = pd.DataFrame()\n",
    "for day in range(1, 21):\n",
    "    path = f'data/parquet/2022-07-{day:02}'\n",
    "    print(f\"Reading {path} ...\")\n",
    "    temp_df = pd_read_s3_multiple_parquets(path, AWS_S3_BUCKET)\n",
    "    df = df.append(temp_df)\n",
    "\n",
    "df"
   ]
  },
  {
   "cell_type": "markdown",
   "metadata": {},
   "source": [
    "# 종가 예측하는 LSTM 모델"
   ]
  },
  {
   "cell_type": "markdown",
   "metadata": {},
   "source": [
    "## Preprocessing"
   ]
  },
  {
   "cell_type": "code",
   "execution_count": 5,
   "metadata": {},
   "outputs": [],
   "source": [
    "from sklearn.preprocessing import MinMaxScaler\n",
    "from sklearn.model_selection import train_test_split"
   ]
  },
  {
   "cell_type": "code",
   "execution_count": 6,
   "metadata": {},
   "outputs": [
    {
     "data": {
      "text/html": [
       "<div>\n",
       "<style scoped>\n",
       "    .dataframe tbody tr th:only-of-type {\n",
       "        vertical-align: middle;\n",
       "    }\n",
       "\n",
       "    .dataframe tbody tr th {\n",
       "        vertical-align: top;\n",
       "    }\n",
       "\n",
       "    .dataframe thead th {\n",
       "        text-align: right;\n",
       "    }\n",
       "</style>\n",
       "<table border=\"1\" class=\"dataframe\">\n",
       "  <thead>\n",
       "    <tr style=\"text-align: right;\">\n",
       "      <th></th>\n",
       "      <th>open</th>\n",
       "      <th>high</th>\n",
       "      <th>low</th>\n",
       "      <th>close</th>\n",
       "      <th>volume</th>\n",
       "    </tr>\n",
       "  </thead>\n",
       "  <tbody>\n",
       "    <tr>\n",
       "      <th>0</th>\n",
       "      <td>0.210192</td>\n",
       "      <td>0.202617</td>\n",
       "      <td>0.188612</td>\n",
       "      <td>0.187517</td>\n",
       "      <td>0.141976</td>\n",
       "    </tr>\n",
       "    <tr>\n",
       "      <th>1</th>\n",
       "      <td>0.187517</td>\n",
       "      <td>0.177621</td>\n",
       "      <td>0.181508</td>\n",
       "      <td>0.191030</td>\n",
       "      <td>0.102416</td>\n",
       "    </tr>\n",
       "    <tr>\n",
       "      <th>2</th>\n",
       "      <td>0.191030</td>\n",
       "      <td>0.180504</td>\n",
       "      <td>0.179504</td>\n",
       "      <td>0.176652</td>\n",
       "      <td>0.062846</td>\n",
       "    </tr>\n",
       "    <tr>\n",
       "      <th>3</th>\n",
       "      <td>0.176654</td>\n",
       "      <td>0.169533</td>\n",
       "      <td>0.178085</td>\n",
       "      <td>0.174674</td>\n",
       "      <td>0.074216</td>\n",
       "    </tr>\n",
       "    <tr>\n",
       "      <th>4</th>\n",
       "      <td>0.174674</td>\n",
       "      <td>0.160224</td>\n",
       "      <td>0.164065</td>\n",
       "      <td>0.169349</td>\n",
       "      <td>0.074004</td>\n",
       "    </tr>\n",
       "    <tr>\n",
       "      <th>...</th>\n",
       "      <td>...</td>\n",
       "      <td>...</td>\n",
       "      <td>...</td>\n",
       "      <td>...</td>\n",
       "      <td>...</td>\n",
       "    </tr>\n",
       "    <tr>\n",
       "      <th>28795</th>\n",
       "      <td>0.820838</td>\n",
       "      <td>0.811497</td>\n",
       "      <td>0.814337</td>\n",
       "      <td>0.813729</td>\n",
       "      <td>0.040440</td>\n",
       "    </tr>\n",
       "    <tr>\n",
       "      <th>28796</th>\n",
       "      <td>0.813948</td>\n",
       "      <td>0.806731</td>\n",
       "      <td>0.811005</td>\n",
       "      <td>0.811953</td>\n",
       "      <td>0.051185</td>\n",
       "    </tr>\n",
       "    <tr>\n",
       "      <th>28797</th>\n",
       "      <td>0.811480</td>\n",
       "      <td>0.803412</td>\n",
       "      <td>0.810433</td>\n",
       "      <td>0.806419</td>\n",
       "      <td>0.030749</td>\n",
       "    </tr>\n",
       "    <tr>\n",
       "      <th>28798</th>\n",
       "      <td>0.806892</td>\n",
       "      <td>0.807876</td>\n",
       "      <td>0.809451</td>\n",
       "      <td>0.814032</td>\n",
       "      <td>0.036569</td>\n",
       "    </tr>\n",
       "    <tr>\n",
       "      <th>28799</th>\n",
       "      <td>0.813420</td>\n",
       "      <td>0.807041</td>\n",
       "      <td>0.815277</td>\n",
       "      <td>0.813992</td>\n",
       "      <td>0.028556</td>\n",
       "    </tr>\n",
       "  </tbody>\n",
       "</table>\n",
       "<p>28800 rows × 5 columns</p>\n",
       "</div>"
      ],
      "text/plain": [
       "           open      high       low     close    volume\n",
       "0      0.210192  0.202617  0.188612  0.187517  0.141976\n",
       "1      0.187517  0.177621  0.181508  0.191030  0.102416\n",
       "2      0.191030  0.180504  0.179504  0.176652  0.062846\n",
       "3      0.176654  0.169533  0.178085  0.174674  0.074216\n",
       "4      0.174674  0.160224  0.164065  0.169349  0.074004\n",
       "...         ...       ...       ...       ...       ...\n",
       "28795  0.820838  0.811497  0.814337  0.813729  0.040440\n",
       "28796  0.813948  0.806731  0.811005  0.811953  0.051185\n",
       "28797  0.811480  0.803412  0.810433  0.806419  0.030749\n",
       "28798  0.806892  0.807876  0.809451  0.814032  0.036569\n",
       "28799  0.813420  0.807041  0.815277  0.813992  0.028556\n",
       "\n",
       "[28800 rows x 5 columns]"
      ]
     },
     "execution_count": 6,
     "metadata": {},
     "output_type": "execute_result"
    }
   ],
   "source": [
    "scaler = MinMaxScaler()\n",
    "\n",
    "scale_cols = ['open', 'high', 'low', 'close', 'volume']\n",
    "df_scaled = pd.DataFrame(scaler.fit_transform(df[scale_cols]), columns=scale_cols)\n",
    "df_scaled"
   ]
  },
  {
   "cell_type": "code",
   "execution_count": 7,
   "metadata": {},
   "outputs": [],
   "source": [
    "x_train, x_test, y_train, y_test = train_test_split(df_scaled.drop('close', axis=1), df_scaled['close'], test_size=0.2, random_state=0, shuffle=False)"
   ]
  },
  {
   "cell_type": "code",
   "execution_count": 8,
   "metadata": {},
   "outputs": [
    {
     "name": "stdout",
     "output_type": "stream",
     "text": [
      "(23040, 4) (23040,)\n",
      "(5760, 4) (5760,)\n"
     ]
    }
   ],
   "source": [
    "print(x_train.shape, y_train.shape)\n",
    "print(x_test.shape, y_test.shape)"
   ]
  },
  {
   "cell_type": "code",
   "execution_count": 9,
   "metadata": {},
   "outputs": [
    {
     "data": {
      "text/html": [
       "<div>\n",
       "<style scoped>\n",
       "    .dataframe tbody tr th:only-of-type {\n",
       "        vertical-align: middle;\n",
       "    }\n",
       "\n",
       "    .dataframe tbody tr th {\n",
       "        vertical-align: top;\n",
       "    }\n",
       "\n",
       "    .dataframe thead th {\n",
       "        text-align: right;\n",
       "    }\n",
       "</style>\n",
       "<table border=\"1\" class=\"dataframe\">\n",
       "  <thead>\n",
       "    <tr style=\"text-align: right;\">\n",
       "      <th></th>\n",
       "      <th>open</th>\n",
       "      <th>high</th>\n",
       "      <th>low</th>\n",
       "      <th>volume</th>\n",
       "    </tr>\n",
       "  </thead>\n",
       "  <tbody>\n",
       "    <tr>\n",
       "      <th>0</th>\n",
       "      <td>0.210192</td>\n",
       "      <td>0.202617</td>\n",
       "      <td>0.188612</td>\n",
       "      <td>0.141976</td>\n",
       "    </tr>\n",
       "    <tr>\n",
       "      <th>1</th>\n",
       "      <td>0.187517</td>\n",
       "      <td>0.177621</td>\n",
       "      <td>0.181508</td>\n",
       "      <td>0.102416</td>\n",
       "    </tr>\n",
       "    <tr>\n",
       "      <th>2</th>\n",
       "      <td>0.191030</td>\n",
       "      <td>0.180504</td>\n",
       "      <td>0.179504</td>\n",
       "      <td>0.062846</td>\n",
       "    </tr>\n",
       "    <tr>\n",
       "      <th>3</th>\n",
       "      <td>0.176654</td>\n",
       "      <td>0.169533</td>\n",
       "      <td>0.178085</td>\n",
       "      <td>0.074216</td>\n",
       "    </tr>\n",
       "    <tr>\n",
       "      <th>4</th>\n",
       "      <td>0.174674</td>\n",
       "      <td>0.160224</td>\n",
       "      <td>0.164065</td>\n",
       "      <td>0.074004</td>\n",
       "    </tr>\n",
       "    <tr>\n",
       "      <th>...</th>\n",
       "      <td>...</td>\n",
       "      <td>...</td>\n",
       "      <td>...</td>\n",
       "      <td>...</td>\n",
       "    </tr>\n",
       "    <tr>\n",
       "      <th>23035</th>\n",
       "      <td>0.441513</td>\n",
       "      <td>0.431495</td>\n",
       "      <td>0.442155</td>\n",
       "      <td>0.016665</td>\n",
       "    </tr>\n",
       "    <tr>\n",
       "      <th>23036</th>\n",
       "      <td>0.438524</td>\n",
       "      <td>0.428063</td>\n",
       "      <td>0.441341</td>\n",
       "      <td>0.009992</td>\n",
       "    </tr>\n",
       "    <tr>\n",
       "      <th>23037</th>\n",
       "      <td>0.437803</td>\n",
       "      <td>0.426985</td>\n",
       "      <td>0.440313</td>\n",
       "      <td>0.010385</td>\n",
       "    </tr>\n",
       "    <tr>\n",
       "      <th>23038</th>\n",
       "      <td>0.438977</td>\n",
       "      <td>0.432732</td>\n",
       "      <td>0.442664</td>\n",
       "      <td>0.019445</td>\n",
       "    </tr>\n",
       "    <tr>\n",
       "      <th>23039</th>\n",
       "      <td>0.444746</td>\n",
       "      <td>0.432497</td>\n",
       "      <td>0.444346</td>\n",
       "      <td>0.009649</td>\n",
       "    </tr>\n",
       "  </tbody>\n",
       "</table>\n",
       "<p>23040 rows × 4 columns</p>\n",
       "</div>"
      ],
      "text/plain": [
       "           open      high       low    volume\n",
       "0      0.210192  0.202617  0.188612  0.141976\n",
       "1      0.187517  0.177621  0.181508  0.102416\n",
       "2      0.191030  0.180504  0.179504  0.062846\n",
       "3      0.176654  0.169533  0.178085  0.074216\n",
       "4      0.174674  0.160224  0.164065  0.074004\n",
       "...         ...       ...       ...       ...\n",
       "23035  0.441513  0.431495  0.442155  0.016665\n",
       "23036  0.438524  0.428063  0.441341  0.009992\n",
       "23037  0.437803  0.426985  0.440313  0.010385\n",
       "23038  0.438977  0.432732  0.442664  0.019445\n",
       "23039  0.444746  0.432497  0.444346  0.009649\n",
       "\n",
       "[23040 rows x 4 columns]"
      ]
     },
     "execution_count": 9,
     "metadata": {},
     "output_type": "execute_result"
    }
   ],
   "source": [
    "x_train"
   ]
  },
  {
   "cell_type": "code",
   "execution_count": 10,
   "metadata": {},
   "outputs": [
    {
     "data": {
      "text/plain": [
       "0        0.187517\n",
       "1        0.191030\n",
       "2        0.176652\n",
       "3        0.174674\n",
       "4        0.169349\n",
       "           ...   \n",
       "23035    0.438523\n",
       "23036    0.437802\n",
       "23037    0.438976\n",
       "23038    0.444745\n",
       "23039    0.440845\n",
       "Name: close, Length: 23040, dtype: float64"
      ]
     },
     "execution_count": 10,
     "metadata": {},
     "output_type": "execute_result"
    }
   ],
   "source": [
    "y_train"
   ]
  },
  {
   "cell_type": "code",
   "execution_count": 14,
   "metadata": {},
   "outputs": [],
   "source": [
    "import tensorflow as tf"
   ]
  },
  {
   "cell_type": "code",
   "execution_count": 12,
   "metadata": {},
   "outputs": [],
   "source": [
    "@tf.autograph.experimental.do_not_convert\n",
    "def windowed_dataset(series, window_size, batch_size, shuffle):\n",
    "    series = tf.expand_dims(series, axis=-1)\n",
    "    ds = tf.data.Dataset.from_tensor_slices(series)\n",
    "    ds = ds.window(window_size + 1, shift=1, drop_remainder=True)\n",
    "    ds = ds.flat_map(lambda w: w.batch(window_size + 1))\n",
    "    if shuffle:\n",
    "        ds = ds.shuffle(1000)\n",
    "    ds = ds.map(lambda w: (w[:-1], w[-1]))\n",
    "    return ds.batch(batch_size).prefetch(1)"
   ]
  },
  {
   "cell_type": "code",
   "execution_count": 4,
   "metadata": {},
   "outputs": [],
   "source": [
    "WINDOW_SIZE=20\n",
    "BATCH_SIZE=32"
   ]
  },
  {
   "cell_type": "code",
   "execution_count": 14,
   "metadata": {},
   "outputs": [
    {
     "name": "stderr",
     "output_type": "stream",
     "text": [
      "2022-07-21 15:07:46.373335: I tensorflow/compiler/jit/xla_cpu_device.cc:41] Not creating XLA devices, tf_xla_enable_xla_devices not set\n",
      "2022-07-21 15:07:46.376359: I tensorflow/core/platform/cpu_feature_guard.cc:142] This TensorFlow binary is optimized with oneAPI Deep Neural Network Library (oneDNN) to use the following CPU instructions in performance-critical operations:  SSE4.1 SSE4.2 AVX AVX2 AVX512F FMA\n",
      "To enable them in other operations, rebuild TensorFlow with the appropriate compiler flags.\n",
      "2022-07-21 15:07:46.380272: I tensorflow/core/common_runtime/process_util.cc:146] Creating new thread pool with default inter op setting: 2. Tune using inter_op_parallelism_threads for best performance.\n"
     ]
    }
   ],
   "source": [
    "train_data = windowed_dataset(y_train, WINDOW_SIZE, BATCH_SIZE, True)\n",
    "test_data = windowed_dataset(y_test, WINDOW_SIZE, BATCH_SIZE, False)"
   ]
  },
  {
   "cell_type": "code",
   "execution_count": 15,
   "metadata": {},
   "outputs": [
    {
     "name": "stderr",
     "output_type": "stream",
     "text": [
      "2022-07-21 15:07:46.526854: I tensorflow/compiler/mlir/mlir_graph_optimization_pass.cc:116] None of the MLIR optimization passes are enabled (registered 2)\n",
      "2022-07-21 15:07:46.530001: I tensorflow/core/platform/profile_utils/cpu_utils.cc:112] CPU Frequency: 2499995000 Hz\n"
     ]
    },
    {
     "name": "stdout",
     "output_type": "stream",
     "text": [
      "데이터셋(X) 구성(batch_size, window_size, feature갯수): (32, 20, 1)\n",
      "데이터셋(Y) 구성(batch_size, window_size, feature갯수): (32, 1)\n"
     ]
    }
   ],
   "source": [
    "for data in train_data.take(1):\n",
    "    print(f'데이터셋(X) 구성(batch_size, window_size, feature갯수): {data[0].shape}')\n",
    "    print(f'데이터셋(Y) 구성(batch_size, window_size, feature갯수): {data[1].shape}')"
   ]
  },
  {
   "cell_type": "markdown",
   "metadata": {},
   "source": [
    "## Modeling"
   ]
  },
  {
   "cell_type": "code",
   "execution_count": 2,
   "metadata": {},
   "outputs": [],
   "source": [
    "from tensorflow.keras.models import Sequential\n",
    "from tensorflow.keras.layers import Dense, LSTM, Conv1D, Lambda\n",
    "from tensorflow.keras.losses import Huber\n",
    "from tensorflow.keras.optimizers import Adam\n",
    "from tensorflow.keras.callbacks import EarlyStopping, ModelCheckpoint"
   ]
  },
  {
   "cell_type": "code",
   "execution_count": 5,
   "metadata": {},
   "outputs": [
    {
     "name": "stderr",
     "output_type": "stream",
     "text": [
      "2022-08-03 14:56:04.781653: I tensorflow/compiler/jit/xla_cpu_device.cc:41] Not creating XLA devices, tf_xla_enable_xla_devices not set\n",
      "2022-08-03 14:56:04.782907: I tensorflow/core/platform/cpu_feature_guard.cc:142] This TensorFlow binary is optimized with oneAPI Deep Neural Network Library (oneDNN) to use the following CPU instructions in performance-critical operations:  SSE4.1 SSE4.2 AVX AVX2 AVX512F FMA\n",
      "To enable them in other operations, rebuild TensorFlow with the appropriate compiler flags.\n",
      "2022-08-03 14:56:04.785272: I tensorflow/core/common_runtime/process_util.cc:146] Creating new thread pool with default inter op setting: 2. Tune using inter_op_parallelism_threads for best performance.\n"
     ]
    }
   ],
   "source": [
    "model = Sequential([\n",
    "    # 1차원 feature map 생성\n",
    "    Conv1D(filters=32, kernel_size=5,\n",
    "           padding=\"causal\",\n",
    "           activation=\"relu\",\n",
    "           input_shape=[WINDOW_SIZE, 1]),\n",
    "    # LSTM\n",
    "    LSTM(16, activation='tanh'),\n",
    "    Dense(16, activation=\"relu\"),\n",
    "    Dense(1),\n",
    "])\n",
    "\n",
    "# Sequence 학습에 비교적 좋은 퍼포먼스를 내는 Huber()를 사용합니다.\n",
    "loss = Huber()\n",
    "optimizer = Adam(0.0005)\n",
    "model.compile(loss=Huber(), optimizer=optimizer, metrics=['mse'])"
   ]
  },
  {
   "cell_type": "code",
   "execution_count": 6,
   "metadata": {},
   "outputs": [],
   "source": [
    "# earlystopping은 10번 epoch통안 val_loss 개선이 없다면 학습을 멈춥니다.\n",
    "earlystopping = EarlyStopping(monitor='val_loss', patience=10)\n",
    "# val_loss 기준 체크포인터도 생성합니다.\n",
    "filename = os.path.join('tmp', 'ckeckpointer.ckpt')\n",
    "checkpoint = ModelCheckpoint(filename, \n",
    "                             save_weights_only=True, \n",
    "                             save_best_only=True, \n",
    "                             monitor='val_loss', \n",
    "                             verbose=1)"
   ]
  },
  {
   "cell_type": "code",
   "execution_count": 19,
   "metadata": {},
   "outputs": [
    {
     "name": "stdout",
     "output_type": "stream",
     "text": [
      "Epoch 1/15\n",
      "720/720 [==============================] - 58s 75ms/step - loss: 0.0013 - mse: 0.0027 - val_loss: 0.0031 - val_mse: 0.0063\n",
      "\n",
      "Epoch 00001: val_loss improved from inf to 0.00315, saving model to tmp/ckeckpointer.ckpt\n",
      "Epoch 2/15\n",
      "720/720 [==============================] - 48s 66ms/step - loss: 3.1905e-05 - mse: 6.3810e-05 - val_loss: 0.0023 - val_mse: 0.0045\n",
      "\n",
      "Epoch 00002: val_loss improved from 0.00315 to 0.00225, saving model to tmp/ckeckpointer.ckpt\n",
      "Epoch 3/15\n",
      "720/720 [==============================] - 57s 79ms/step - loss: 2.6823e-05 - mse: 5.3646e-05 - val_loss: 0.0019 - val_mse: 0.0038\n",
      "\n",
      "Epoch 00003: val_loss improved from 0.00225 to 0.00189, saving model to tmp/ckeckpointer.ckpt\n",
      "Epoch 4/15\n",
      "720/720 [==============================] - 50s 70ms/step - loss: 2.3918e-05 - mse: 4.7836e-05 - val_loss: 0.0017 - val_mse: 0.0033\n",
      "\n",
      "Epoch 00004: val_loss improved from 0.00189 to 0.00167, saving model to tmp/ckeckpointer.ckpt\n",
      "Epoch 5/15\n",
      "720/720 [==============================] - 50s 70ms/step - loss: 2.3549e-05 - mse: 4.7098e-05 - val_loss: 0.0017 - val_mse: 0.0033\n",
      "\n",
      "Epoch 00005: val_loss improved from 0.00167 to 0.00165, saving model to tmp/ckeckpointer.ckpt\n",
      "Epoch 6/15\n",
      "720/720 [==============================] - 55s 75ms/step - loss: 2.1468e-05 - mse: 4.2936e-05 - val_loss: 0.0018 - val_mse: 0.0035\n",
      "\n",
      "Epoch 00006: val_loss did not improve from 0.00165\n",
      "Epoch 7/15\n",
      "720/720 [==============================] - 57s 79ms/step - loss: 1.8361e-05 - mse: 3.6722e-05 - val_loss: 0.0013 - val_mse: 0.0027\n",
      "\n",
      "Epoch 00007: val_loss improved from 0.00165 to 0.00135, saving model to tmp/ckeckpointer.ckpt\n",
      "Epoch 8/15\n",
      "720/720 [==============================] - 53s 73ms/step - loss: 1.7299e-05 - mse: 3.4598e-05 - val_loss: 0.0014 - val_mse: 0.0029\n",
      "\n",
      "Epoch 00008: val_loss did not improve from 0.00135\n",
      "Epoch 9/15\n",
      "720/720 [==============================] - 58s 80ms/step - loss: 1.5759e-05 - mse: 3.1518e-05 - val_loss: 0.0013 - val_mse: 0.0027\n",
      "\n",
      "Epoch 00009: val_loss improved from 0.00135 to 0.00134, saving model to tmp/ckeckpointer.ckpt\n",
      "Epoch 10/15\n",
      "720/720 [==============================] - 59s 82ms/step - loss: 1.5375e-05 - mse: 3.0749e-05 - val_loss: 0.0012 - val_mse: 0.0024\n",
      "\n",
      "Epoch 00010: val_loss improved from 0.00134 to 0.00120, saving model to tmp/ckeckpointer.ckpt\n",
      "Epoch 11/15\n",
      "720/720 [==============================] - 58s 80ms/step - loss: 1.4136e-05 - mse: 2.8271e-05 - val_loss: 0.0010 - val_mse: 0.0021\n",
      "\n",
      "Epoch 00011: val_loss improved from 0.00120 to 0.00103, saving model to tmp/ckeckpointer.ckpt\n",
      "Epoch 12/15\n",
      "720/720 [==============================] - 61s 85ms/step - loss: 1.4756e-05 - mse: 2.9512e-05 - val_loss: 0.0012 - val_mse: 0.0025\n",
      "\n",
      "Epoch 00012: val_loss did not improve from 0.00103\n",
      "Epoch 13/15\n",
      "720/720 [==============================] - 68s 95ms/step - loss: 1.3568e-05 - mse: 2.7136e-05 - val_loss: 0.0012 - val_mse: 0.0024\n",
      "\n",
      "Epoch 00013: val_loss did not improve from 0.00103\n",
      "Epoch 14/15\n",
      "720/720 [==============================] - 63s 87ms/step - loss: 1.3307e-05 - mse: 2.6613e-05 - val_loss: 0.0012 - val_mse: 0.0025\n",
      "\n",
      "Epoch 00014: val_loss did not improve from 0.00103\n",
      "Epoch 15/15\n",
      "720/720 [==============================] - 63s 87ms/step - loss: 1.2275e-05 - mse: 2.4551e-05 - val_loss: 0.0013 - val_mse: 0.0026\n",
      "\n",
      "Epoch 00015: val_loss did not improve from 0.00103\n"
     ]
    }
   ],
   "source": [
    "history = model.fit(train_data, \n",
    "                    validation_data=(test_data), \n",
    "                    epochs=15, \n",
    "                    callbacks=[checkpoint, earlystopping])"
   ]
  },
  {
   "cell_type": "markdown",
   "metadata": {},
   "source": [
    "## Predict"
   ]
  },
  {
   "cell_type": "code",
   "execution_count": 7,
   "metadata": {},
   "outputs": [
    {
     "data": {
      "text/plain": [
       "<tensorflow.python.training.tracking.util.CheckpointLoadStatus at 0x7fcb20250ee0>"
      ]
     },
     "execution_count": 7,
     "metadata": {},
     "output_type": "execute_result"
    }
   ],
   "source": [
    "model.load_weights(filename)"
   ]
  },
  {
   "cell_type": "code",
   "execution_count": 21,
   "metadata": {},
   "outputs": [],
   "source": [
    "pred = model.predict(test_data)"
   ]
  },
  {
   "cell_type": "markdown",
   "metadata": {},
   "source": [
    "### Visualization"
   ]
  },
  {
   "cell_type": "code",
   "execution_count": 22,
   "metadata": {},
   "outputs": [
    {
     "data": {
      "image/png": "[encoded data removed]",
      "text/plain": [
       "<Figure size 864x648 with 1 Axes>"
      ]
     },
     "metadata": {
      "needs_background": "light"
     },
     "output_type": "display_data"
    }
   ],
   "source": [
    "plt.figure(figsize=(12, 9))\n",
    "plt.plot(np.asarray(y_test)[WINDOW_SIZE:], label='actual')\n",
    "plt.plot(pred, label='prediction')\n",
    "plt.legend()\n",
    "plt.show()"
   ]
  },
  {
   "cell_type": "code",
   "execution_count": 11,
   "metadata": {},
   "outputs": [],
   "source": [
    "import pickle\n",
    "import os"
   ]
  },
  {
   "cell_type": "code",
   "execution_count": 15,
   "metadata": {},
   "outputs": [
    {
     "name": "stderr",
     "output_type": "stream",
     "text": [
      "2022-08-03 15:03:37.851375: W tensorflow/python/util/util.cc:348] Sets are not currently considered sequences, but this may change in the future, so consider avoiding using them.\n",
      "WARNING:absl:Found untraced functions such as lstm_cell_layer_call_and_return_conditional_losses, lstm_cell_layer_call_fn, lstm_cell_layer_call_fn, lstm_cell_layer_call_and_return_conditional_losses, lstm_cell_layer_call_and_return_conditional_losses while saving (showing 5 of 5). These functions will not be directly callable after loading.\n",
      "WARNING:absl:Found untraced functions such as lstm_cell_layer_call_and_return_conditional_losses, lstm_cell_layer_call_fn, lstm_cell_layer_call_fn, lstm_cell_layer_call_and_return_conditional_losses, lstm_cell_layer_call_and_return_conditional_losses while saving (showing 5 of 5). These functions will not be directly callable after loading.\n"
     ]
    },
    {
     "name": "stdout",
     "output_type": "stream",
     "text": [
      "INFO:tensorflow:Assets written to: /home/ubuntu/knkwon/modeling/models/lstm_model/assets\n"
     ]
    },
    {
     "name": "stderr",
     "output_type": "stream",
     "text": [
      "INFO:tensorflow:Assets written to: /home/ubuntu/knkwon/modeling/models/lstm_model/assets\n"
     ]
    }
   ],
   "source": [
    "tf.keras.models.save_model(model, '/home/ubuntu/knkwon/modeling/models/lstm_model')"
   ]
  },
  {
   "cell_type": "code",
   "execution_count": null,
   "metadata": {},
   "outputs": [],
   "source": []
  }
 ],
 "metadata": {
  "kernelspec": {
   "display_name": "Python 3.8.12 ('de-study')",
   "language": "python",
   "name": "python3"
  },
  "language_info": {
   "codemirror_mode": {
    "name": "ipython",
    "version": 3
   },
   "file_extension": ".py",
   "mimetype": "text/x-python",
   "name": "python",
   "nbconvert_exporter": "python",
   "pygments_lexer": "ipython3",
   "version": "3.8.12"
  },
  "orig_nbformat": 4,
  "vscode": {
   "interpreter": {
    "hash": "604853faba6455fce3c050f4d0c42bfd2de5d7a864f7bbeca0b442ef264df23a"
   }
  }
 },
 "nbformat": 4,
 "nbformat_minor": 2
}
