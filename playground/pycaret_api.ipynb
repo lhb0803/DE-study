{
 "cells": [
  {
   "cell_type": "code",
   "execution_count": 1,
   "metadata": {},
   "outputs": [],
   "source": [
    "import requests\n",
    "from getpass import getpass\n",
    "\n",
    "from datetime import datetime, timedelta\n",
    "from random import random\n",
    "import json"
   ]
  },
  {
   "attachments": {},
   "cell_type": "markdown",
   "metadata": {},
   "source": [
    "* reference: [link](https://towardsdatascience.com/build-with-pycaret-deploy-with-fastapi-333c710dc786)\n",
    "    * use FastAPI"
   ]
  },
  {
   "cell_type": "code",
   "execution_count": 2,
   "metadata": {},
   "outputs": [],
   "source": [
    "UPBIT_URL = 'https://api.upbit.com'\n",
    "ECS_URL = getpass('ecs public domain: ')\n",
    "PORT = 8000"
   ]
  },
  {
   "cell_type": "code",
   "execution_count": 3,
   "metadata": {},
   "outputs": [],
   "source": [
    "def get_predictions(candle_date_time_kst, open, high, low, close, volume, sentiment, new_author_rate, heavy_author_rate):\n",
    "    url = f'http://{ECS_URL}:{PORT}/predict?candle_date_time_kst={candle_date_time_kst}&open={open}&high={high}&low={low}&close={close}&volume={volume}&sentiment={sentiment}&new_author_rate={new_author_rate}&heavy_author_rate={heavy_author_rate}'\n",
    "\n",
    "    data = requests.post(url)\n",
    "    return data.text"
   ]
  },
  {
   "cell_type": "code",
   "execution_count": 4,
   "metadata": {},
   "outputs": [
    {
     "data": {
      "text/plain": [
       "{'market': 'KRW-BTC',\n",
       " 'candle_date_time_utc': '2023-03-26T05:58:00',\n",
       " 'candle_date_time_kst': '2023-03-26T14:58:00',\n",
       " 'opening_price': 36716000.0,\n",
       " 'high_price': 36716000.0,\n",
       " 'low_price': 36710000.0,\n",
       " 'trade_price': 36710000.0,\n",
       " 'timestamp': 1679810286468,\n",
       " 'candle_acc_trade_price': 10541573.0608,\n",
       " 'candle_acc_trade_volume': 0.28715792,\n",
       " 'unit': 1}"
      ]
     },
     "execution_count": 4,
     "metadata": {},
     "output_type": "execute_result"
    }
   ],
   "source": [
    "dnow = datetime.now() + timedelta(hours=9)\n",
    "dtime = dnow.strftime(\"%Y-%m-%d %H:%M:%S\")\n",
    "upbit_request_url = f\"{UPBIT_URL}/v1/candles/minutes/1?unit=1&market=KRW-BTC&to={dtime}&count=1\"\n",
    "response = requests.get(upbit_request_url, headers={\"accept\": \"application/json\"})\n",
    "\n",
    "current_data = json.loads(response.text)[0]\n",
    "current_data"
   ]
  },
  {
   "cell_type": "code",
   "execution_count": 5,
   "metadata": {},
   "outputs": [
    {
     "data": {
      "text/plain": [
       "'{\"prediction\":[\"1.0\"]}'"
      ]
     },
     "execution_count": 5,
     "metadata": {},
     "output_type": "execute_result"
    }
   ],
   "source": [
    "get_predictions(\n",
    "    candle_date_time_kst=current_data['candle_date_time_kst'], \n",
    "    open=current_data['opening_price'], \n",
    "    high=current_data['high_price'], \n",
    "    low=current_data['low_price'], \n",
    "    close=current_data['trade_price'], \n",
    "    volume=current_data['candle_acc_trade_volume'],\n",
    "    sentiment=2 * random() - 1,\n",
    "    new_author_rate=random(),\n",
    "    heavy_author_rate=random(),\n",
    ")"
   ]
  },
  {
   "cell_type": "code",
   "execution_count": null,
   "metadata": {},
   "outputs": [],
   "source": []
  }
 ],
 "metadata": {
  "kernelspec": {
   "display_name": "de-study",
   "language": "python",
   "name": "python3"
  },
  "language_info": {
   "codemirror_mode": {
    "name": "ipython",
    "version": 3
   },
   "file_extension": ".py",
   "mimetype": "text/x-python",
   "name": "python",
   "nbconvert_exporter": "python",
   "pygments_lexer": "ipython3",
   "version": "3.8.12"
  },
  "orig_nbformat": 4,
  "vscode": {
   "interpreter": {
    "hash": "604853faba6455fce3c050f4d0c42bfd2de5d7a864f7bbeca0b442ef264df23a"
   }
  }
 },
 "nbformat": 4,
 "nbformat_minor": 2
}
