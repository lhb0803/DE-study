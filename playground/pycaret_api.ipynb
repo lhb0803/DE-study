{
 "cells": [
  {
   "cell_type": "code",
   "execution_count": 1,
   "metadata": {},
   "outputs": [],
   "source": [
    "import requests\n",
    "from getpass import getpass"
   ]
  },
  {
   "attachments": {},
   "cell_type": "markdown",
   "metadata": {},
   "source": [
    "* reference: [link](https://towardsdatascience.com/build-with-pycaret-deploy-with-fastapi-333c710dc786)\n",
    "    * use FastAPI"
   ]
  },
  {
   "cell_type": "code",
   "execution_count": 2,
   "metadata": {},
   "outputs": [],
   "source": [
    "ECS_URL = getpass('ecs public domain: ')\n",
    "PORT = 8000"
   ]
  },
  {
   "cell_type": "code",
   "execution_count": 3,
   "metadata": {},
   "outputs": [
    {
     "data": {
      "text/plain": [
       "'3.38.171.242'"
      ]
     },
     "execution_count": 3,
     "metadata": {},
     "output_type": "execute_result"
    }
   ],
   "source": [
    "ECS_URL"
   ]
  },
  {
   "cell_type": "code",
   "execution_count": 4,
   "metadata": {},
   "outputs": [],
   "source": [
    "def get_predictions(candle_date_time_kst, open, high, low, close, volume):\n",
    "    url = f'http://{ECS_URL}:{PORT}/predict?candle_date_time_kst={candle_date_time_kst}&open={open}&high={high}&low={low}&close={close}&volume={volume}'\n",
    "\n",
    "    data = requests.post(url)\n",
    "    return data.text"
   ]
  },
  {
   "cell_type": "code",
   "execution_count": 5,
   "metadata": {},
   "outputs": [
    {
     "data": {
      "text/plain": [
       "'{\"prediction\":[\"0.0\"]}'"
      ]
     },
     "execution_count": 5,
     "metadata": {},
     "output_type": "execute_result"
    }
   ],
   "source": [
    "get_predictions('2023-01-30 22:10:22', 2000.0, 2200.0, 1850.0, 2140.0, 100000.0)"
   ]
  }
 ],
 "metadata": {
  "kernelspec": {
   "display_name": "de-study",
   "language": "python",
   "name": "python3"
  },
  "language_info": {
   "codemirror_mode": {
    "name": "ipython",
    "version": 3
   },
   "file_extension": ".py",
   "mimetype": "text/x-python",
   "name": "python",
   "nbconvert_exporter": "python",
   "pygments_lexer": "ipython3",
   "version": "3.8.12"
  },
  "orig_nbformat": 4,
  "vscode": {
   "interpreter": {
    "hash": "604853faba6455fce3c050f4d0c42bfd2de5d7a864f7bbeca0b442ef264df23a"
   }
  }
 },
 "nbformat": 4,
 "nbformat_minor": 2
}
