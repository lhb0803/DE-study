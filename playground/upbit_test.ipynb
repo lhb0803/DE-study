{
 "cells": [
  {
   "cell_type": "code",
   "execution_count": 2,
   "metadata": {},
   "outputs": [],
   "source": [
    "import jwt\n",
    "import hashlib\n",
    "import os\n",
    "import requests\n",
    "import uuid\n",
    "from urllib.parse import urlencode, unquote\n",
    "from getpass import getpass"
   ]
  },
  {
   "cell_type": "code",
   "execution_count": 1,
   "metadata": {},
   "outputs": [],
   "source": [
    "access_key = getpass(\"upbit api access_key: \") \n",
    "secret_key = getpass(\"upbit api secret_key: \")\n",
    "server_url = 'https://api.upbit.com'"
   ]
  },
  {
   "cell_type": "code",
   "execution_count": 3,
   "metadata": {},
   "outputs": [
    {
     "data": {
      "text/plain": [
       "[{'currency': 'KRW',\n",
       "  'balance': '65253.71158579',\n",
       "  'locked': '0',\n",
       "  'avg_buy_price': '0',\n",
       "  'avg_buy_price_modified': True,\n",
       "  'unit_currency': 'KRW'},\n",
       " {'currency': 'CPT',\n",
       "  'balance': '2383',\n",
       "  'locked': '0',\n",
       "  'avg_buy_price': '5.74',\n",
       "  'avg_buy_price_modified': False,\n",
       "  'unit_currency': 'KRW'},\n",
       " {'currency': 'DON',\n",
       "  'balance': '0.02699621',\n",
       "  'locked': '0',\n",
       "  'avg_buy_price': '0',\n",
       "  'avg_buy_price_modified': False,\n",
       "  'unit_currency': 'KRW'},\n",
       " {'currency': 'APENFT',\n",
       "  'balance': '389859.83027603',\n",
       "  'locked': '0',\n",
       "  'avg_buy_price': '0',\n",
       "  'avg_buy_price_modified': False,\n",
       "  'unit_currency': 'KRW'}]"
      ]
     },
     "execution_count": 3,
     "metadata": {},
     "output_type": "execute_result"
    }
   ],
   "source": [
    "# 잔고확인\n",
    "query = {}\n",
    "m = hashlib.sha512()\n",
    "m.update(urlencode(query).encode())\n",
    "query_hash = m.hexdigest()\n",
    "\n",
    "payload = {\n",
    "    'access_key': access_key,\n",
    "    'nonce': str(uuid.uuid4()),\n",
    "    'query_hash': query_hash,\n",
    "    'query_hash_alg': 'SHA512'\n",
    "}\n",
    "\n",
    "jwt_token = jwt.encode(payload, secret_key)\n",
    "authorization = 'Bearer {}'.format(jwt_token)\n",
    "headers = {\n",
    "  'Authorization': authorization,\n",
    "}\n",
    "\n",
    "res = requests.get(server_url + '/v1/accounts', headers=headers)\n",
    "res.json()"
   ]
  },
  {
   "cell_type": "code",
   "execution_count": 8,
   "metadata": {},
   "outputs": [],
   "source": [
    "import json"
   ]
  },
  {
   "cell_type": "code",
   "execution_count": 9,
   "metadata": {},
   "outputs": [
    {
     "name": "stdout",
     "output_type": "stream",
     "text": [
      "<class 'str'>\n",
      "<class 'list'>\n"
     ]
    }
   ],
   "source": [
    "url = \"https://api.upbit.com/v1/candles/minutes/1?unit=1&market=KRW-BTC&to=2022-09-26 23:59:59&count=60\"\n",
    "headers = {\"accept\": \"application/json\"}\n",
    "response = requests.get(url, headers=headers)\n",
    "print(type(response.text))\n",
    "print(type(json.loads(response.text)))"
   ]
  },
  {
   "cell_type": "code",
   "execution_count": null,
   "metadata": {},
   "outputs": [],
   "source": []
  }
 ],
 "metadata": {
  "kernelspec": {
   "display_name": "Python 3.8.12 ('de-study')",
   "language": "python",
   "name": "python3"
  },
  "language_info": {
   "codemirror_mode": {
    "name": "ipython",
    "version": 3
   },
   "file_extension": ".py",
   "mimetype": "text/x-python",
   "name": "python",
   "nbconvert_exporter": "python",
   "pygments_lexer": "ipython3",
   "version": "3.8.12"
  },
  "orig_nbformat": 4,
  "vscode": {
   "interpreter": {
    "hash": "604853faba6455fce3c050f4d0c42bfd2de5d7a864f7bbeca0b442ef264df23a"
   }
  }
 },
 "nbformat": 4,
 "nbformat_minor": 2
}
