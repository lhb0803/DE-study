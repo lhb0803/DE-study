{
 "cells": [
  {
   "cell_type": "code",
   "execution_count": 1,
   "metadata": {},
   "outputs": [],
   "source": [
    "import pandas as pd\n",
    "import numpy as np\n",
    "\n",
    "import boto3\n",
    "import pyarrow.parquet as pq\n",
    "\n",
    "import matplotlib.pyplot as plt\n",
    "import io\n",
    "import os\n",
    "\n",
    "import datetime\n",
    "from getpass import getpass\n",
    "\n",
    "import warnings\n",
    "warnings.filterwarnings('ignore')"
   ]
  },
  {
   "cell_type": "code",
   "execution_count": 2,
   "metadata": {},
   "outputs": [],
   "source": [
    "AWS_S3_BUCKET = \"pipeliner-hb\"\n",
    "AWS_ACCESS_KEY_ID = getpass(\"AWS_ACCESS_KEY_ID: \")\n",
    "AWS_SECRET_ACCESS_KEY = getpass(\"AWS_SECRET_ACCESS_KEY: \")"
   ]
  },
  {
   "cell_type": "code",
   "execution_count": 3,
   "metadata": {},
   "outputs": [],
   "source": [
    "def pd_read_s3_parquet(key, bucket, s3_client=None, **args):\n",
    "    if s3_client is None:\n",
    "        s3_client = boto3.client('s3')\n",
    "    obj = s3_client.get_object(Bucket=bucket, Key=key)\n",
    "    return pd.read_parquet(io.BytesIO(obj['Body'].read()), **args)\n",
    "\n",
    "def pd_read_s3_multiple_parquets(filepath, bucket, s3=None, \n",
    "                                 s3_client=None, verbose=False, **args):\n",
    "    if not filepath.endswith('/'):\n",
    "        filepath = filepath + '/'  # Add '/' to the end\n",
    "    if s3_client is None:\n",
    "        s3_client = boto3.client('s3')\n",
    "    if s3 is None:\n",
    "        s3 = boto3.resource('s3')\n",
    "    s3_keys = [item.key for item in s3.Bucket(bucket).objects.filter(Prefix=filepath)\n",
    "               if item.key.endswith('.parquet')]\n",
    "    if not s3_keys:\n",
    "        print('No parquet found in', bucket, filepath)\n",
    "    elif verbose:\n",
    "        print('Load parquets:')\n",
    "        for p in s3_keys: \n",
    "            print(p)\n",
    "    dfs = [pd_read_s3_parquet(key, bucket=bucket, s3_client=s3_client, **args) \n",
    "           for key in s3_keys]\n",
    "    return pd.concat(dfs, ignore_index=True)"
   ]
  },
  {
   "cell_type": "code",
   "execution_count": 4,
   "metadata": {},
   "outputs": [
    {
     "name": "stdout",
     "output_type": "stream",
     "text": [
      "Reading data/parquet/2022-07-01 ...\n",
      "Reading data/parquet/2022-07-02 ...\n",
      "Reading data/parquet/2022-07-03 ...\n",
      "Reading data/parquet/2022-07-04 ...\n",
      "Reading data/parquet/2022-07-05 ...\n",
      "Reading data/parquet/2022-07-06 ...\n",
      "Reading data/parquet/2022-07-07 ...\n",
      "Reading data/parquet/2022-07-08 ...\n",
      "Reading data/parquet/2022-07-09 ...\n",
      "Reading data/parquet/2022-07-10 ...\n",
      "Reading data/parquet/2022-07-11 ...\n",
      "Reading data/parquet/2022-07-12 ...\n",
      "Reading data/parquet/2022-07-13 ...\n",
      "Reading data/parquet/2022-07-14 ...\n",
      "Reading data/parquet/2022-07-15 ...\n",
      "Reading data/parquet/2022-07-16 ...\n",
      "Reading data/parquet/2022-07-17 ...\n",
      "Reading data/parquet/2022-07-18 ...\n",
      "Reading data/parquet/2022-07-19 ...\n",
      "Reading data/parquet/2022-07-20 ...\n"
     ]
    },
    {
     "data": {
      "text/html": [
       "<div>\n",
       "<style scoped>\n",
       "    .dataframe tbody tr th:only-of-type {\n",
       "        vertical-align: middle;\n",
       "    }\n",
       "\n",
       "    .dataframe tbody tr th {\n",
       "        vertical-align: top;\n",
       "    }\n",
       "\n",
       "    .dataframe thead th {\n",
       "        text-align: right;\n",
       "    }\n",
       "</style>\n",
       "<table border=\"1\" class=\"dataframe\">\n",
       "  <thead>\n",
       "    <tr style=\"text-align: right;\">\n",
       "      <th></th>\n",
       "      <th>datetime</th>\n",
       "      <th>open</th>\n",
       "      <th>high</th>\n",
       "      <th>low</th>\n",
       "      <th>close</th>\n",
       "      <th>volume</th>\n",
       "    </tr>\n",
       "  </thead>\n",
       "  <tbody>\n",
       "    <tr>\n",
       "      <th>0</th>\n",
       "      <td>2022-07-01 00:00:00</td>\n",
       "      <td>19942.21</td>\n",
       "      <td>19978.47</td>\n",
       "      <td>19804.78</td>\n",
       "      <td>19819.00</td>\n",
       "      <td>467.33201</td>\n",
       "    </tr>\n",
       "    <tr>\n",
       "      <th>1</th>\n",
       "      <td>2022-07-01 00:01:00</td>\n",
       "      <td>19818.99</td>\n",
       "      <td>19843.73</td>\n",
       "      <td>19766.22</td>\n",
       "      <td>19838.09</td>\n",
       "      <td>337.35428</td>\n",
       "    </tr>\n",
       "    <tr>\n",
       "      <th>2</th>\n",
       "      <td>2022-07-01 00:02:00</td>\n",
       "      <td>19838.08</td>\n",
       "      <td>19859.27</td>\n",
       "      <td>19755.34</td>\n",
       "      <td>19759.96</td>\n",
       "      <td>207.34382</td>\n",
       "    </tr>\n",
       "    <tr>\n",
       "      <th>3</th>\n",
       "      <td>2022-07-01 00:03:00</td>\n",
       "      <td>19759.96</td>\n",
       "      <td>19800.13</td>\n",
       "      <td>19747.64</td>\n",
       "      <td>19749.21</td>\n",
       "      <td>244.70052</td>\n",
       "    </tr>\n",
       "    <tr>\n",
       "      <th>4</th>\n",
       "      <td>2022-07-01 00:04:00</td>\n",
       "      <td>19749.20</td>\n",
       "      <td>19749.95</td>\n",
       "      <td>19671.54</td>\n",
       "      <td>19720.27</td>\n",
       "      <td>244.00150</td>\n",
       "    </tr>\n",
       "    <tr>\n",
       "      <th>...</th>\n",
       "      <td>...</td>\n",
       "      <td>...</td>\n",
       "      <td>...</td>\n",
       "      <td>...</td>\n",
       "      <td>...</td>\n",
       "      <td>...</td>\n",
       "    </tr>\n",
       "    <tr>\n",
       "      <th>1435</th>\n",
       "      <td>2022-07-20 23:55:00</td>\n",
       "      <td>23260.50</td>\n",
       "      <td>23260.62</td>\n",
       "      <td>23201.19</td>\n",
       "      <td>23221.87</td>\n",
       "      <td>133.72606</td>\n",
       "    </tr>\n",
       "    <tr>\n",
       "      <th>1436</th>\n",
       "      <td>2022-07-20 23:56:00</td>\n",
       "      <td>23223.06</td>\n",
       "      <td>23234.93</td>\n",
       "      <td>23183.10</td>\n",
       "      <td>23212.22</td>\n",
       "      <td>169.02871</td>\n",
       "    </tr>\n",
       "    <tr>\n",
       "      <th>1437</th>\n",
       "      <td>2022-07-20 23:57:00</td>\n",
       "      <td>23209.65</td>\n",
       "      <td>23217.04</td>\n",
       "      <td>23180.00</td>\n",
       "      <td>23182.15</td>\n",
       "      <td>101.88660</td>\n",
       "    </tr>\n",
       "    <tr>\n",
       "      <th>1438</th>\n",
       "      <td>2022-07-20 23:58:00</td>\n",
       "      <td>23184.72</td>\n",
       "      <td>23241.10</td>\n",
       "      <td>23174.67</td>\n",
       "      <td>23223.52</td>\n",
       "      <td>121.00841</td>\n",
       "    </tr>\n",
       "    <tr>\n",
       "      <th>1439</th>\n",
       "      <td>2022-07-20 23:59:00</td>\n",
       "      <td>23220.19</td>\n",
       "      <td>23236.60</td>\n",
       "      <td>23206.29</td>\n",
       "      <td>23223.30</td>\n",
       "      <td>94.67869</td>\n",
       "    </tr>\n",
       "  </tbody>\n",
       "</table>\n",
       "<p>28800 rows × 6 columns</p>\n",
       "</div>"
      ],
      "text/plain": [
       "                datetime      open      high       low     close     volume\n",
       "0    2022-07-01 00:00:00  19942.21  19978.47  19804.78  19819.00  467.33201\n",
       "1    2022-07-01 00:01:00  19818.99  19843.73  19766.22  19838.09  337.35428\n",
       "2    2022-07-01 00:02:00  19838.08  19859.27  19755.34  19759.96  207.34382\n",
       "3    2022-07-01 00:03:00  19759.96  19800.13  19747.64  19749.21  244.70052\n",
       "4    2022-07-01 00:04:00  19749.20  19749.95  19671.54  19720.27  244.00150\n",
       "...                  ...       ...       ...       ...       ...        ...\n",
       "1435 2022-07-20 23:55:00  23260.50  23260.62  23201.19  23221.87  133.72606\n",
       "1436 2022-07-20 23:56:00  23223.06  23234.93  23183.10  23212.22  169.02871\n",
       "1437 2022-07-20 23:57:00  23209.65  23217.04  23180.00  23182.15  101.88660\n",
       "1438 2022-07-20 23:58:00  23184.72  23241.10  23174.67  23223.52  121.00841\n",
       "1439 2022-07-20 23:59:00  23220.19  23236.60  23206.29  23223.30   94.67869\n",
       "\n",
       "[28800 rows x 6 columns]"
      ]
     },
     "execution_count": 4,
     "metadata": {},
     "output_type": "execute_result"
    }
   ],
   "source": [
    "df = pd.DataFrame()\n",
    "for day in range(1, 21):\n",
    "    path = f'data/parquet/2022-07-{day:02}'\n",
    "    print(f\"Reading {path} ...\")\n",
    "    temp_df = pd_read_s3_multiple_parquets(path, AWS_S3_BUCKET)\n",
    "    df = df.append(temp_df)\n",
    "\n",
    "df"
   ]
  },
  {
   "cell_type": "markdown",
   "metadata": {},
   "source": [
    "# 종가 예측하는 XGBoost 모델"
   ]
  },
  {
   "cell_type": "markdown",
   "metadata": {},
   "source": [
    "## Preprocessing"
   ]
  },
  {
   "cell_type": "code",
   "execution_count": 5,
   "metadata": {},
   "outputs": [],
   "source": [
    "# from sklearn.preprocessing import MinMaxScaler\n",
    "from sklearn.model_selection import train_test_split"
   ]
  },
  {
   "cell_type": "code",
   "execution_count": 46,
   "metadata": {},
   "outputs": [],
   "source": [
    "x_train, x_test, y_train, y_test = train_test_split(df.drop(['datetime', 'close'], axis=1), df['close'], test_size=0.2, random_state=0, shuffle=False)"
   ]
  },
  {
   "cell_type": "code",
   "execution_count": 47,
   "metadata": {},
   "outputs": [
    {
     "name": "stdout",
     "output_type": "stream",
     "text": [
      "(23040, 4) (23040,)\n",
      "(5760, 4) (5760,)\n"
     ]
    }
   ],
   "source": [
    "print(x_train.shape, y_train.shape)\n",
    "print(x_test.shape, y_test.shape)"
   ]
  },
  {
   "cell_type": "code",
   "execution_count": 48,
   "metadata": {},
   "outputs": [
    {
     "data": {
      "text/html": [
       "<div>\n",
       "<style scoped>\n",
       "    .dataframe tbody tr th:only-of-type {\n",
       "        vertical-align: middle;\n",
       "    }\n",
       "\n",
       "    .dataframe tbody tr th {\n",
       "        vertical-align: top;\n",
       "    }\n",
       "\n",
       "    .dataframe thead th {\n",
       "        text-align: right;\n",
       "    }\n",
       "</style>\n",
       "<table border=\"1\" class=\"dataframe\">\n",
       "  <thead>\n",
       "    <tr style=\"text-align: right;\">\n",
       "      <th></th>\n",
       "      <th>open</th>\n",
       "      <th>high</th>\n",
       "      <th>low</th>\n",
       "      <th>volume</th>\n",
       "    </tr>\n",
       "  </thead>\n",
       "  <tbody>\n",
       "    <tr>\n",
       "      <th>0</th>\n",
       "      <td>19942.21</td>\n",
       "      <td>19978.47</td>\n",
       "      <td>19804.78</td>\n",
       "      <td>467.33201</td>\n",
       "    </tr>\n",
       "    <tr>\n",
       "      <th>1</th>\n",
       "      <td>19818.99</td>\n",
       "      <td>19843.73</td>\n",
       "      <td>19766.22</td>\n",
       "      <td>337.35428</td>\n",
       "    </tr>\n",
       "    <tr>\n",
       "      <th>2</th>\n",
       "      <td>19838.08</td>\n",
       "      <td>19859.27</td>\n",
       "      <td>19755.34</td>\n",
       "      <td>207.34382</td>\n",
       "    </tr>\n",
       "    <tr>\n",
       "      <th>3</th>\n",
       "      <td>19759.96</td>\n",
       "      <td>19800.13</td>\n",
       "      <td>19747.64</td>\n",
       "      <td>244.70052</td>\n",
       "    </tr>\n",
       "    <tr>\n",
       "      <th>4</th>\n",
       "      <td>19749.20</td>\n",
       "      <td>19749.95</td>\n",
       "      <td>19671.54</td>\n",
       "      <td>244.00150</td>\n",
       "    </tr>\n",
       "    <tr>\n",
       "      <th>...</th>\n",
       "      <td>...</td>\n",
       "      <td>...</td>\n",
       "      <td>...</td>\n",
       "      <td>...</td>\n",
       "    </tr>\n",
       "    <tr>\n",
       "      <th>1435</th>\n",
       "      <td>21199.22</td>\n",
       "      <td>21212.23</td>\n",
       "      <td>21181.00</td>\n",
       "      <td>55.61251</td>\n",
       "    </tr>\n",
       "    <tr>\n",
       "      <th>1436</th>\n",
       "      <td>21182.98</td>\n",
       "      <td>21193.73</td>\n",
       "      <td>21176.58</td>\n",
       "      <td>33.68477</td>\n",
       "    </tr>\n",
       "    <tr>\n",
       "      <th>1437</th>\n",
       "      <td>21179.06</td>\n",
       "      <td>21187.92</td>\n",
       "      <td>21171.00</td>\n",
       "      <td>34.97860</td>\n",
       "    </tr>\n",
       "    <tr>\n",
       "      <th>1438</th>\n",
       "      <td>21185.44</td>\n",
       "      <td>21218.90</td>\n",
       "      <td>21183.76</td>\n",
       "      <td>64.74500</td>\n",
       "    </tr>\n",
       "    <tr>\n",
       "      <th>1439</th>\n",
       "      <td>21216.79</td>\n",
       "      <td>21217.63</td>\n",
       "      <td>21192.89</td>\n",
       "      <td>32.55818</td>\n",
       "    </tr>\n",
       "  </tbody>\n",
       "</table>\n",
       "<p>23040 rows × 4 columns</p>\n",
       "</div>"
      ],
      "text/plain": [
       "          open      high       low     volume\n",
       "0     19942.21  19978.47  19804.78  467.33201\n",
       "1     19818.99  19843.73  19766.22  337.35428\n",
       "2     19838.08  19859.27  19755.34  207.34382\n",
       "3     19759.96  19800.13  19747.64  244.70052\n",
       "4     19749.20  19749.95  19671.54  244.00150\n",
       "...        ...       ...       ...        ...\n",
       "1435  21199.22  21212.23  21181.00   55.61251\n",
       "1436  21182.98  21193.73  21176.58   33.68477\n",
       "1437  21179.06  21187.92  21171.00   34.97860\n",
       "1438  21185.44  21218.90  21183.76   64.74500\n",
       "1439  21216.79  21217.63  21192.89   32.55818\n",
       "\n",
       "[23040 rows x 4 columns]"
      ]
     },
     "execution_count": 48,
     "metadata": {},
     "output_type": "execute_result"
    }
   ],
   "source": [
    "x_train"
   ]
  },
  {
   "cell_type": "code",
   "execution_count": 49,
   "metadata": {},
   "outputs": [
    {
     "data": {
      "text/plain": [
       "0       19819.00\n",
       "1       19838.09\n",
       "2       19759.96\n",
       "3       19749.21\n",
       "4       19720.27\n",
       "          ...   \n",
       "1435    21182.98\n",
       "1436    21179.06\n",
       "1437    21185.44\n",
       "1438    21216.79\n",
       "1439    21195.60\n",
       "Name: close, Length: 23040, dtype: float64"
      ]
     },
     "execution_count": 49,
     "metadata": {},
     "output_type": "execute_result"
    }
   ],
   "source": [
    "y_train"
   ]
  },
  {
   "cell_type": "markdown",
   "metadata": {},
   "source": [
    "## Modeling"
   ]
  },
  {
   "cell_type": "code",
   "execution_count": 11,
   "metadata": {},
   "outputs": [],
   "source": [
    "import xgboost as xgb\n",
    "from xgboost import plot_importance, plot_tree\n",
    "from sklearn.metrics import mean_squared_error, mean_absolute_error"
   ]
  },
  {
   "cell_type": "code",
   "execution_count": 50,
   "metadata": {},
   "outputs": [
    {
     "data": {
      "text/plain": [
       "XGBRegressor(base_score=0.5, booster='gbtree', colsample_bylevel=1,\n",
       "             colsample_bynode=1, colsample_bytree=1, enable_categorical=False,\n",
       "             gamma=0, gpu_id=-1, importance_type=None,\n",
       "             interaction_constraints='', learning_rate=0.300000012,\n",
       "             max_delta_step=0, max_depth=6, min_child_weight=1, missing=nan,\n",
       "             monotone_constraints='()', n_estimators=500, n_jobs=2,\n",
       "             num_parallel_tree=1, predictor='auto', random_state=0, reg_alpha=0,\n",
       "             reg_lambda=1, scale_pos_weight=1, subsample=1, tree_method='exact',\n",
       "             validate_parameters=1, verbosity=None)"
      ]
     },
     "execution_count": 50,
     "metadata": {},
     "output_type": "execute_result"
    }
   ],
   "source": [
    "model = xgb.XGBRegressor(n_estimators=500)\n",
    "\n",
    "model.fit(x_train, y_train)"
   ]
  },
  {
   "cell_type": "code",
   "execution_count": 51,
   "metadata": {},
   "outputs": [
    {
     "data": {
      "image/png": "[encoded data removed]",
      "text/plain": [
       "<Figure size 432x288 with 1 Axes>"
      ]
     },
     "metadata": {
      "needs_background": "light"
     },
     "output_type": "display_data"
    }
   ],
   "source": [
    "plot_importance(model)\n",
    "plt.show()"
   ]
  },
  {
   "cell_type": "markdown",
   "metadata": {},
   "source": [
    "## Predict"
   ]
  },
  {
   "cell_type": "code",
   "execution_count": 52,
   "metadata": {},
   "outputs": [],
   "source": [
    "pred = model.predict(x_test)"
   ]
  },
  {
   "cell_type": "code",
   "execution_count": 53,
   "metadata": {},
   "outputs": [
    {
     "data": {
      "text/plain": [
       "5760"
      ]
     },
     "execution_count": 53,
     "metadata": {},
     "output_type": "execute_result"
    }
   ],
   "source": [
    "pred.shape[0]"
   ]
  },
  {
   "cell_type": "markdown",
   "metadata": {},
   "source": [
    "### Visualization"
   ]
  },
  {
   "cell_type": "code",
   "execution_count": 32,
   "metadata": {},
   "outputs": [
    {
     "data": {
      "text/plain": [
       "23040   2022-07-17 00:00:00\n",
       "23041   2022-07-17 00:01:00\n",
       "23042   2022-07-17 00:02:00\n",
       "23043   2022-07-17 00:03:00\n",
       "23044   2022-07-17 00:04:00\n",
       "                ...        \n",
       "28795   2022-07-20 23:55:00\n",
       "28796   2022-07-20 23:56:00\n",
       "28797   2022-07-20 23:57:00\n",
       "28798   2022-07-20 23:58:00\n",
       "28799   2022-07-20 23:59:00\n",
       "Name: datetime, Length: 5760, dtype: datetime64[ns]"
      ]
     },
     "execution_count": 32,
     "metadata": {},
     "output_type": "execute_result"
    }
   ],
   "source": [
    "df.reset_index().loc[x_test.index.to_list(), 'datetime']"
   ]
  },
  {
   "cell_type": "code",
   "execution_count": 54,
   "metadata": {},
   "outputs": [
    {
     "data": {
      "image/png": "[encoded data removed]",
      "text/plain": [
       "<Figure size 864x648 with 1 Axes>"
      ]
     },
     "metadata": {
      "needs_background": "light"
     },
     "output_type": "display_data"
    }
   ],
   "source": [
    "plt.figure(figsize=(12, 9))\n",
    "plt.plot(np.asarray(y_test), label='actual')\n",
    "plt.plot(pred, label='prediction')\n",
    "plt.legend()\n",
    "# plt.xticks(ticks=range(pred.shape[0]), labels=df.reset_index().loc[x_test.index.to_list(), 'datetime'], rotation=90)\n",
    "plt.show()"
   ]
  },
  {
   "cell_type": "code",
   "execution_count": 41,
   "metadata": {},
   "outputs": [
    {
     "data": {
      "image/png": "[encoded data removed]",
      "text/plain": [
       "<Figure size 864x648 with 1 Axes>"
      ]
     },
     "metadata": {
      "needs_background": "light"
     },
     "output_type": "display_data"
    }
   ],
   "source": [
    "plt.figure(figsize=(12, 9))\n",
    "plt.plot(np.append(y_train, y_test), label='actual')\n",
    "plt.plot(np.append(y_train, pred), label='prediction')\n",
    "plt.legend()\n",
    "# plt.xticks(ticks=range(pred.shape[0]), labels=df.reset_index().loc[x_test.index.to_list(), 'datetime'], rotation=90)\n",
    "plt.show()"
   ]
  },
  {
   "cell_type": "markdown",
   "metadata": {},
   "source": [
    "## Save Model"
   ]
  },
  {
   "cell_type": "code",
   "execution_count": 22,
   "metadata": {},
   "outputs": [],
   "source": [
    "import pickle"
   ]
  },
  {
   "cell_type": "code",
   "execution_count": 55,
   "metadata": {},
   "outputs": [],
   "source": [
    "pickle.dump(model, open('/home/ubuntu/knkwon/modeling/models/xgb_test', 'wb'))"
   ]
  },
  {
   "cell_type": "markdown",
   "metadata": {},
   "source": [
    "## Load Model"
   ]
  },
  {
   "cell_type": "code",
   "execution_count": 56,
   "metadata": {},
   "outputs": [
    {
     "data": {
      "text/html": [
       "<div>\n",
       "<style scoped>\n",
       "    .dataframe tbody tr th:only-of-type {\n",
       "        vertical-align: middle;\n",
       "    }\n",
       "\n",
       "    .dataframe tbody tr th {\n",
       "        vertical-align: top;\n",
       "    }\n",
       "\n",
       "    .dataframe thead th {\n",
       "        text-align: right;\n",
       "    }\n",
       "</style>\n",
       "<table border=\"1\" class=\"dataframe\">\n",
       "  <thead>\n",
       "    <tr style=\"text-align: right;\">\n",
       "      <th></th>\n",
       "      <th>open</th>\n",
       "      <th>high</th>\n",
       "      <th>low</th>\n",
       "      <th>volume</th>\n",
       "    </tr>\n",
       "  </thead>\n",
       "  <tbody>\n",
       "    <tr>\n",
       "      <th>0</th>\n",
       "      <td>21195.60</td>\n",
       "      <td>21205.46</td>\n",
       "      <td>21187.19</td>\n",
       "      <td>78.80792</td>\n",
       "    </tr>\n",
       "    <tr>\n",
       "      <th>1</th>\n",
       "      <td>21198.30</td>\n",
       "      <td>21209.82</td>\n",
       "      <td>21193.42</td>\n",
       "      <td>42.53579</td>\n",
       "    </tr>\n",
       "    <tr>\n",
       "      <th>2</th>\n",
       "      <td>21197.04</td>\n",
       "      <td>21207.99</td>\n",
       "      <td>21188.56</td>\n",
       "      <td>48.02886</td>\n",
       "    </tr>\n",
       "    <tr>\n",
       "      <th>3</th>\n",
       "      <td>21205.29</td>\n",
       "      <td>21264.99</td>\n",
       "      <td>21193.10</td>\n",
       "      <td>271.90644</td>\n",
       "    </tr>\n",
       "    <tr>\n",
       "      <th>4</th>\n",
       "      <td>21252.56</td>\n",
       "      <td>21262.79</td>\n",
       "      <td>21220.17</td>\n",
       "      <td>167.95799</td>\n",
       "    </tr>\n",
       "    <tr>\n",
       "      <th>...</th>\n",
       "      <td>...</td>\n",
       "      <td>...</td>\n",
       "      <td>...</td>\n",
       "      <td>...</td>\n",
       "    </tr>\n",
       "    <tr>\n",
       "      <th>1435</th>\n",
       "      <td>23260.50</td>\n",
       "      <td>23260.62</td>\n",
       "      <td>23201.19</td>\n",
       "      <td>133.72606</td>\n",
       "    </tr>\n",
       "    <tr>\n",
       "      <th>1436</th>\n",
       "      <td>23223.06</td>\n",
       "      <td>23234.93</td>\n",
       "      <td>23183.10</td>\n",
       "      <td>169.02871</td>\n",
       "    </tr>\n",
       "    <tr>\n",
       "      <th>1437</th>\n",
       "      <td>23209.65</td>\n",
       "      <td>23217.04</td>\n",
       "      <td>23180.00</td>\n",
       "      <td>101.88660</td>\n",
       "    </tr>\n",
       "    <tr>\n",
       "      <th>1438</th>\n",
       "      <td>23184.72</td>\n",
       "      <td>23241.10</td>\n",
       "      <td>23174.67</td>\n",
       "      <td>121.00841</td>\n",
       "    </tr>\n",
       "    <tr>\n",
       "      <th>1439</th>\n",
       "      <td>23220.19</td>\n",
       "      <td>23236.60</td>\n",
       "      <td>23206.29</td>\n",
       "      <td>94.67869</td>\n",
       "    </tr>\n",
       "  </tbody>\n",
       "</table>\n",
       "<p>5760 rows × 4 columns</p>\n",
       "</div>"
      ],
      "text/plain": [
       "          open      high       low     volume\n",
       "0     21195.60  21205.46  21187.19   78.80792\n",
       "1     21198.30  21209.82  21193.42   42.53579\n",
       "2     21197.04  21207.99  21188.56   48.02886\n",
       "3     21205.29  21264.99  21193.10  271.90644\n",
       "4     21252.56  21262.79  21220.17  167.95799\n",
       "...        ...       ...       ...        ...\n",
       "1435  23260.50  23260.62  23201.19  133.72606\n",
       "1436  23223.06  23234.93  23183.10  169.02871\n",
       "1437  23209.65  23217.04  23180.00  101.88660\n",
       "1438  23184.72  23241.10  23174.67  121.00841\n",
       "1439  23220.19  23236.60  23206.29   94.67869\n",
       "\n",
       "[5760 rows x 4 columns]"
      ]
     },
     "execution_count": 56,
     "metadata": {},
     "output_type": "execute_result"
    }
   ],
   "source": [
    "x_test"
   ]
  },
  {
   "cell_type": "code",
   "execution_count": 45,
   "metadata": {},
   "outputs": [
    {
     "name": "stdout",
     "output_type": "stream",
     "text": [
      "[0.34606498]\n"
     ]
    }
   ],
   "source": [
    "model = pickle.load(open('/home/ubuntu/knkwon/modeling/models/xgb_test', 'rb'))\n",
    "print(model.predict(np.array([[0.2, 0.4, 0.3, 0.01]])))"
   ]
  },
  {
   "cell_type": "code",
   "execution_count": null,
   "metadata": {},
   "outputs": [],
   "source": []
  }
 ],
 "metadata": {
  "kernelspec": {
   "display_name": "Python 3.8.12 ('de-study')",
   "language": "python",
   "name": "python3"
  },
  "language_info": {
   "codemirror_mode": {
    "name": "ipython",
    "version": 3
   },
   "file_extension": ".py",
   "mimetype": "text/x-python",
   "name": "python",
   "nbconvert_exporter": "python",
   "pygments_lexer": "ipython3",
   "version": "3.8.12"
  },
  "orig_nbformat": 4,
  "vscode": {
   "interpreter": {
    "hash": "604853faba6455fce3c050f4d0c42bfd2de5d7a864f7bbeca0b442ef264df23a"
   }
  }
 },
 "nbformat": 4,
 "nbformat_minor": 2
}
